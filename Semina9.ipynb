{
 "cells": [
  {
   "cell_type": "code",
   "execution_count": 8,
   "metadata": {},
   "outputs": [],
   "source": [
    "import pandas as pd"
   ]
  },
  {
   "cell_type": "code",
   "execution_count": 9,
   "metadata": {},
   "outputs": [],
   "source": [
    "data = pd.read_excel(\"a_b _test_ecom.xlsx\")"
   ]
  },
  {
   "cell_type": "code",
   "execution_count": 10,
   "metadata": {},
   "outputs": [
    {
     "name": "stdout",
     "output_type": "stream",
     "text": [
      "<class 'pandas.core.frame.DataFrame'>\n",
      "RangeIndex: 294478 entries, 0 to 294477\n",
      "Data columns (total 5 columns):\n",
      " #   Column     Non-Null Count   Dtype \n",
      "---  ------     --------------   ----- \n",
      " 0   id         294478 non-null  int64 \n",
      " 1   time       294478 non-null  object\n",
      " 2   con_treat  294478 non-null  object\n",
      " 3   page       294478 non-null  object\n",
      " 4   converted  294478 non-null  int64 \n",
      "dtypes: int64(2), object(3)\n",
      "memory usage: 11.2+ MB\n",
      "None\n"
     ]
    }
   ],
   "source": [
    "print(data.info())"
   ]
  },
  {
   "cell_type": "code",
   "execution_count": 11,
   "metadata": {},
   "outputs": [
    {
     "name": "stdout",
     "output_type": "stream",
     "text": [
      "       id     time  con_treat      page  converted\n",
      "0  851104  11:48.6    control  old_page          0\n",
      "1  804228  01:45.2    control  old_page          0\n",
      "2  661590  55:06.2  treatment  new_page          0\n",
      "3  853541  28:03.1  treatment  new_page          0\n",
      "4  864975  52:26.2    control  old_page          1\n"
     ]
    }
   ],
   "source": [
    "print(data.head())"
   ]
  },
  {
   "cell_type": "code",
   "execution_count": 12,
   "metadata": {},
   "outputs": [
    {
     "name": "stdout",
     "output_type": "stream",
     "text": [
      "                  id      converted\n",
      "count  294478.000000  294478.000000\n",
      "mean   787974.124733       0.119659\n",
      "std     91210.823776       0.324563\n",
      "min    630000.000000       0.000000\n",
      "25%    709032.250000       0.000000\n",
      "50%    787933.500000       0.000000\n",
      "75%    866911.750000       0.000000\n",
      "max    945999.000000       1.000000\n"
     ]
    }
   ],
   "source": [
    "print(data.describe())"
   ]
  },
  {
   "cell_type": "code",
   "execution_count": 14,
   "metadata": {},
   "outputs": [
    {
     "data": {
      "text/plain": [
       "con_treat\n",
       "treatment    147276\n",
       "control      147202\n",
       "Name: count, dtype: int64"
      ]
     },
     "execution_count": 14,
     "metadata": {},
     "output_type": "execute_result"
    }
   ],
   "source": [
    "data.con_treat.value_counts()"
   ]
  },
  {
   "cell_type": "code",
   "execution_count": 15,
   "metadata": {},
   "outputs": [
    {
     "data": {
      "text/plain": [
       "page\n",
       "old_page    147239\n",
       "new_page    147239\n",
       "Name: count, dtype: int64"
      ]
     },
     "execution_count": 15,
     "metadata": {},
     "output_type": "execute_result"
    }
   ],
   "source": [
    "data.page.value_counts()"
   ]
  },
  {
   "cell_type": "code",
   "execution_count": 16,
   "metadata": {},
   "outputs": [
    {
     "data": {
      "text/plain": [
       "290584"
      ]
     },
     "execution_count": 16,
     "metadata": {},
     "output_type": "execute_result"
    }
   ],
   "source": [
    "data.id.nunique()"
   ]
  },
  {
   "cell_type": "code",
   "execution_count": 17,
   "metadata": {},
   "outputs": [
    {
     "data": {
      "text/plain": [
       "294478"
      ]
     },
     "execution_count": 17,
     "metadata": {},
     "output_type": "execute_result"
    }
   ],
   "source": [
    "data.shape[0]"
   ]
  },
  {
   "cell_type": "code",
   "execution_count": 18,
   "metadata": {},
   "outputs": [
    {
     "data": {
      "text/plain": [
       "294477"
      ]
     },
     "execution_count": 18,
     "metadata": {},
     "output_type": "execute_result"
    }
   ],
   "source": [
    "290584 + 3893"
   ]
  },
  {
   "cell_type": "code",
   "execution_count": 19,
   "metadata": {},
   "outputs": [],
   "source": [
    "data = data.query('(con_treat == \"control\" and page == \"old_page\") or (con_treat == \"treatment\" and page == \"new_page\")')"
   ]
  },
  {
   "cell_type": "code",
   "execution_count": 22,
   "metadata": {},
   "outputs": [
    {
     "name": "stdout",
     "output_type": "stream",
     "text": [
      "<class 'pandas.core.frame.DataFrame'>\n",
      "Index: 290585 entries, 0 to 294477\n",
      "Data columns (total 5 columns):\n",
      " #   Column     Non-Null Count   Dtype \n",
      "---  ------     --------------   ----- \n",
      " 0   id         290585 non-null  int64 \n",
      " 1   time       290585 non-null  object\n",
      " 2   con_treat  290585 non-null  object\n",
      " 3   page       290585 non-null  object\n",
      " 4   converted  290585 non-null  int64 \n",
      "dtypes: int64(2), object(3)\n",
      "memory usage: 13.3+ MB\n"
     ]
    }
   ],
   "source": [
    "data.info()"
   ]
  },
  {
   "cell_type": "code",
   "execution_count": 23,
   "metadata": {},
   "outputs": [],
   "source": [
    "n1 = data.query('con_treat == \"control\"').shape[0]-1\n",
    "n2 = data.query('con_treat == \"treatment\"').shape[0]-1"
   ]
  },
  {
   "cell_type": "code",
   "execution_count": 24,
   "metadata": {},
   "outputs": [],
   "source": [
    "k1 = data.query('con_treat == \"control\"').converted.sum()\n",
    "k2 = data.query('con_treat == \"treatment\"').converted.sum()"
   ]
  },
  {
   "cell_type": "code",
   "execution_count": 25,
   "metadata": {},
   "outputs": [
    {
     "name": "stdout",
     "output_type": "stream",
     "text": [
      "Results are  z_score =1.312, pvalue = 0.190\n"
     ]
    }
   ],
   "source": [
    "from statsmodels.stats import proportion\n",
    "import numpy as np\n",
    "z_score, z_pvalue = proportion.proportions_ztest(np.array([k1, k2]),\n",
    "                                                   np.array([n1, n2]))\n",
    "print('Results are ','z_score =%.3f, pvalue = %.3f'%(z_score, z_pvalue))"
   ]
  },
  {
   "cell_type": "code",
   "execution_count": 26,
   "metadata": {},
   "outputs": [
    {
     "data": {
      "text/plain": [
       "(1.7203163882100383,\n",
       " 0.189652323949578,\n",
       " (array([[ 17489., 127784.],\n",
       "         [ 17264., 128046.]]),\n",
       "  array([[ 17374.28744627, 127898.71255373],\n",
       "         [ 17378.71255373, 127931.28744627]])))"
      ]
     },
     "execution_count": 26,
     "metadata": {},
     "output_type": "execute_result"
    }
   ],
   "source": [
    "from statsmodels.stats import proportion\n",
    "import numpy as np\n",
    "proportion.proportions_chisquare(np.array([k1, k2]),\n",
    "                                                   np.array([n1, n2]))"
   ]
  }
 ],
 "metadata": {
  "kernelspec": {
   "display_name": "Python 3",
   "language": "python",
   "name": "python3"
  },
  "language_info": {
   "codemirror_mode": {
    "name": "ipython",
    "version": 3
   },
   "file_extension": ".py",
   "mimetype": "text/x-python",
   "name": "python",
   "nbconvert_exporter": "python",
   "pygments_lexer": "ipython3",
   "version": "3.10.11"
  },
  "orig_nbformat": 4
 },
 "nbformat": 4,
 "nbformat_minor": 2
}
