{
 "cells": [
  {
   "cell_type": "markdown",
   "metadata": {},
   "source": [
    "На сайте запущен А/В тест с целью увеличить доход. В приложенном excel файле вы найдете сырые данные по результатам эксперимента – user_id, тип выборки variant_name и доход принесенный пользователем revenue.\n",
    "Проанализируйте результаты эксперимента и напишите свои рекомендации менеджеру."
   ]
  },
  {
   "cell_type": "code",
   "execution_count": 1,
   "metadata": {},
   "outputs": [],
   "source": [
    "import pandas as pd"
   ]
  },
  {
   "cell_type": "code",
   "execution_count": 18,
   "metadata": {},
   "outputs": [
    {
     "name": "stderr",
     "output_type": "stream",
     "text": [
      "C:\\Users\\Алексей Степанов\\AppData\\Local\\Packages\\PythonSoftwareFoundation.Python.3.10_qbz5n2kfra8p0\\LocalCache\\local-packages\\Python310\\site-packages\\openpyxl\\worksheet\\_reader.py:329: UserWarning: Unknown extension is not supported and will be removed\n",
      "  warn(msg)\n"
     ]
    }
   ],
   "source": [
    "data = pd.read_excel(\"AB_Test_Results.xlsx\")"
   ]
  },
  {
   "cell_type": "code",
   "execution_count": 19,
   "metadata": {},
   "outputs": [
    {
     "name": "stdout",
     "output_type": "stream",
     "text": [
      "<class 'pandas.core.frame.DataFrame'>\n",
      "RangeIndex: 10000 entries, 0 to 9999\n",
      "Data columns (total 3 columns):\n",
      " #   Column        Non-Null Count  Dtype  \n",
      "---  ------        --------------  -----  \n",
      " 0   USER_ID       10000 non-null  int64  \n",
      " 1   VARIANT_NAME  10000 non-null  object \n",
      " 2   REVENUE       10000 non-null  float64\n",
      "dtypes: float64(1), int64(1), object(1)\n",
      "memory usage: 234.5+ KB\n",
      "None\n"
     ]
    }
   ],
   "source": [
    "print(data.info())"
   ]
  },
  {
   "cell_type": "code",
   "execution_count": 20,
   "metadata": {},
   "outputs": [
    {
     "name": "stdout",
     "output_type": "stream",
     "text": [
      "   USER_ID VARIANT_NAME  REVENUE\n",
      "0      737      variant      0.0\n",
      "1     2423      control      0.0\n",
      "2     9411      control      0.0\n",
      "3     7311      control      0.0\n",
      "4     6174      variant      0.0\n"
     ]
    }
   ],
   "source": [
    "print(data.head())"
   ]
  },
  {
   "cell_type": "code",
   "execution_count": 22,
   "metadata": {},
   "outputs": [
    {
     "name": "stdout",
     "output_type": "stream",
     "text": [
      "VARIANT_NAME\n",
      "variant    5016\n",
      "control    4984\n",
      "Name: count, dtype: int64\n"
     ]
    }
   ],
   "source": [
    "print(data['VARIANT_NAME'].value_counts())"
   ]
  },
  {
   "cell_type": "code",
   "execution_count": 24,
   "metadata": {},
   "outputs": [
    {
     "name": "stdout",
     "output_type": "stream",
     "text": [
      "Общий доход: 994.47\n"
     ]
    }
   ],
   "source": [
    "total_revenue = data['REVENUE'].sum()\n",
    "print('Общий доход:', total_revenue)"
   ]
  },
  {
   "cell_type": "code",
   "execution_count": 25,
   "metadata": {},
   "outputs": [
    {
     "name": "stdout",
     "output_type": "stream",
     "text": [
      "Средний доход: VARIANT_NAME\n",
      "control    0.129013\n",
      "variant    0.070070\n",
      "Name: REVENUE, dtype: float64\n"
     ]
    }
   ],
   "source": [
    "mean_revenue = data.groupby('VARIANT_NAME')['REVENUE'].mean()\n",
    "print('Средний доход:', mean_revenue)"
   ]
  },
  {
   "cell_type": "code",
   "execution_count": 26,
   "metadata": {},
   "outputs": [
    {
     "name": "stdout",
     "output_type": "stream",
     "text": [
      "Медиана дохода: VARIANT_NAME\n",
      "control    0.0\n",
      "variant    0.0\n",
      "Name: REVENUE, dtype: float64\n"
     ]
    }
   ],
   "source": [
    "median_revenue = data.groupby('VARIANT_NAME')['REVENUE'].median()\n",
    "print('Медиана дохода:', median_revenue)"
   ]
  },
  {
   "cell_type": "code",
   "execution_count": 27,
   "metadata": {},
   "outputs": [],
   "source": [
    "from scipy import stats"
   ]
  },
  {
   "cell_type": "code",
   "execution_count": 32,
   "metadata": {},
   "outputs": [
    {
     "name": "stdout",
     "output_type": "stream",
     "text": [
      "t-статистика: nan\n",
      "p-значение: nan\n"
     ]
    }
   ],
   "source": [
    "t_stat, p_value = stats.ttest_ind(data[data['VARIANT_NAME'] == 'Variant A']['REVENUE'],\n",
    "                                  data[data['VARIANT_NAME'] == 'Variant B']['REVENUE'])\n",
    "print('t-статистика:', t_stat)\n",
    "print('p-значение:', p_value)"
   ]
  },
  {
   "cell_type": "code",
   "execution_count": 33,
   "metadata": {},
   "outputs": [
    {
     "name": "stdout",
     "output_type": "stream",
     "text": [
      "              Средний доход  Медиана дохода\n",
      "VARIANT_NAME                               \n",
      "control            0.129013             0.0\n",
      "variant            0.070070             0.0\n"
     ]
    }
   ],
   "source": [
    "comparison = pd.DataFrame({'Средний доход': mean_revenue,\n",
    "                           'Медиана дохода': median_revenue})\n",
    "print(comparison)"
   ]
  },
  {
   "cell_type": "code",
   "execution_count": 34,
   "metadata": {},
   "outputs": [
    {
     "name": "stdout",
     "output_type": "stream",
     "text": [
      "Нет достаточных доказательств для рекомендации смены варианта.\n"
     ]
    }
   ],
   "source": [
    "if p_value < 0.05 and mean_revenue['Variant B'] > mean_revenue['Variant A']:\n",
    "    print('Рекомендуется перейти на Variant B для увеличения дохода.')\n",
    "else:\n",
    "    print('Нет достаточных доказательств для рекомендации смены варианта.')"
   ]
  }
 ],
 "metadata": {
  "kernelspec": {
   "display_name": "Python 3",
   "language": "python",
   "name": "python3"
  },
  "language_info": {
   "codemirror_mode": {
    "name": "ipython",
    "version": 3
   },
   "file_extension": ".py",
   "mimetype": "text/x-python",
   "name": "python",
   "nbconvert_exporter": "python",
   "pygments_lexer": "ipython3",
   "version": "3.10.11"
  },
  "orig_nbformat": 4
 },
 "nbformat": 4,
 "nbformat_minor": 2
}
